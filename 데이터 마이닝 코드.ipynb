{
 "cells": [
  {
   "cell_type": "code",
   "execution_count": 1,
   "id": "48402daa",
   "metadata": {},
   "outputs": [],
   "source": [
    "import pandas as pd\n",
    "import seaborn as sns\n",
    "from sklearn.preprocessing import MinMaxScaler\n",
    "import matplotlib.pylab as plt\n",
    "from sklearn.model_selection import train_test_split\n",
    "from sklearn.svm import SVC\n",
    "from sklearn.metrics import accuracy_score"
   ]
  },
  {
   "cell_type": "code",
   "execution_count": 2,
   "id": "601cac75",
   "metadata": {},
   "outputs": [
    {
     "name": "stdout",
     "output_type": "stream",
     "text": [
      "              Country              City  AQI Value AQI Category  CO AQI Value  \\\n",
      "0  Russian Federation        Praskoveya   0.089249     Moderate      0.007519   \n",
      "1              Brazil  Presidente Dutra   0.068966         Good      0.007519   \n",
      "2              Brazil  Presidente Dutra   0.068966         Good      0.007519   \n",
      "3               Italy   Priolo Gargallo   0.119675     Moderate      0.007519   \n",
      "4              Poland         Przasnysz   0.054767         Good      0.007519   \n",
      "\n",
      "  CO AQI Category  Ozone AQI Value Ozone AQI Category  NO2 AQI Value  \\\n",
      "0            Good         0.162162               Good       0.000000   \n",
      "1            Good         0.022523               Good       0.010989   \n",
      "2            Good         0.022523               Good       0.010989   \n",
      "3            Good         0.175676               Good       0.021978   \n",
      "4            Good         0.153153               Good       0.000000   \n",
      "\n",
      "  NO2 AQI Category  PM2.5 AQI Value PM2.5 AQI Category      lat      lng  \n",
      "0             Good            0.102           Moderate  44.7444  44.2031  \n",
      "1             Good            0.082               Good  -5.2900 -44.4900  \n",
      "2             Good            0.082               Good -11.2958 -41.9869  \n",
      "3             Good            0.132           Moderate  37.1667  15.1833  \n",
      "4             Good            0.040               Good  53.0167  20.8833  \n"
     ]
    }
   ],
   "source": [
    "data = pd.read_csv('C:/Users/82103/Downloads/Countries.csv')\n",
    "\n",
    "columns_normalize = ['AQI Value', 'CO AQI Value', 'Ozone AQI Value', 'NO2 AQI Value', 'PM2.5 AQI Value']\n",
    "\n",
    "scaler = MinMaxScaler()\n",
    "\n",
    "data[columns_normalize] = scaler.fit_transform(data[columns_normalize])\n",
    "\n",
    "print(data.head(5))"
   ]
  },
  {
   "cell_type": "code",
   "execution_count": 3,
   "id": "247c3ffe",
   "metadata": {},
   "outputs": [],
   "source": [
    "countries_df = pd.DataFrame(data, columns = columns_normalize)"
   ]
  },
  {
   "cell_type": "code",
   "execution_count": 7,
   "id": "2719d086",
   "metadata": {},
   "outputs": [
    {
     "data": {
      "text/html": [
       "<div>\n",
       "<style scoped>\n",
       "    .dataframe tbody tr th:only-of-type {\n",
       "        vertical-align: middle;\n",
       "    }\n",
       "\n",
       "    .dataframe tbody tr th {\n",
       "        vertical-align: top;\n",
       "    }\n",
       "\n",
       "    .dataframe thead th {\n",
       "        text-align: right;\n",
       "    }\n",
       "</style>\n",
       "<table border=\"1\" class=\"dataframe\">\n",
       "  <thead>\n",
       "    <tr style=\"text-align: right;\">\n",
       "      <th></th>\n",
       "      <th>AQI Value</th>\n",
       "      <th>CO AQI Value</th>\n",
       "      <th>Ozone AQI Value</th>\n",
       "      <th>NO2 AQI Value</th>\n",
       "      <th>PM2.5 AQI Value</th>\n",
       "    </tr>\n",
       "  </thead>\n",
       "  <tbody>\n",
       "    <tr>\n",
       "      <th>0</th>\n",
       "      <td>0.089249</td>\n",
       "      <td>0.007519</td>\n",
       "      <td>0.162162</td>\n",
       "      <td>0.000000</td>\n",
       "      <td>0.102</td>\n",
       "    </tr>\n",
       "    <tr>\n",
       "      <th>1</th>\n",
       "      <td>0.068966</td>\n",
       "      <td>0.007519</td>\n",
       "      <td>0.022523</td>\n",
       "      <td>0.010989</td>\n",
       "      <td>0.082</td>\n",
       "    </tr>\n",
       "    <tr>\n",
       "      <th>2</th>\n",
       "      <td>0.068966</td>\n",
       "      <td>0.007519</td>\n",
       "      <td>0.022523</td>\n",
       "      <td>0.010989</td>\n",
       "      <td>0.082</td>\n",
       "    </tr>\n",
       "    <tr>\n",
       "      <th>3</th>\n",
       "      <td>0.119675</td>\n",
       "      <td>0.007519</td>\n",
       "      <td>0.175676</td>\n",
       "      <td>0.021978</td>\n",
       "      <td>0.132</td>\n",
       "    </tr>\n",
       "    <tr>\n",
       "      <th>4</th>\n",
       "      <td>0.054767</td>\n",
       "      <td>0.007519</td>\n",
       "      <td>0.153153</td>\n",
       "      <td>0.000000</td>\n",
       "      <td>0.040</td>\n",
       "    </tr>\n",
       "    <tr>\n",
       "      <th>5</th>\n",
       "      <td>0.095335</td>\n",
       "      <td>0.007519</td>\n",
       "      <td>0.063063</td>\n",
       "      <td>0.120879</td>\n",
       "      <td>0.108</td>\n",
       "    </tr>\n",
       "    <tr>\n",
       "      <th>6</th>\n",
       "      <td>0.095335</td>\n",
       "      <td>0.007519</td>\n",
       "      <td>0.063063</td>\n",
       "      <td>0.120879</td>\n",
       "      <td>0.108</td>\n",
       "    </tr>\n",
       "    <tr>\n",
       "      <th>7</th>\n",
       "      <td>0.115619</td>\n",
       "      <td>0.007519</td>\n",
       "      <td>0.130631</td>\n",
       "      <td>0.076923</td>\n",
       "      <td>0.128</td>\n",
       "    </tr>\n",
       "  </tbody>\n",
       "</table>\n",
       "</div>"
      ],
      "text/plain": [
       "   AQI Value  CO AQI Value  Ozone AQI Value  NO2 AQI Value  PM2.5 AQI Value\n",
       "0   0.089249      0.007519         0.162162       0.000000            0.102\n",
       "1   0.068966      0.007519         0.022523       0.010989            0.082\n",
       "2   0.068966      0.007519         0.022523       0.010989            0.082\n",
       "3   0.119675      0.007519         0.175676       0.021978            0.132\n",
       "4   0.054767      0.007519         0.153153       0.000000            0.040\n",
       "5   0.095335      0.007519         0.063063       0.120879            0.108\n",
       "6   0.095335      0.007519         0.063063       0.120879            0.108\n",
       "7   0.115619      0.007519         0.130631       0.076923            0.128"
      ]
     },
     "execution_count": 7,
     "metadata": {},
     "output_type": "execute_result"
    }
   ],
   "source": [
    "countries_df.head(8)"
   ]
  },
  {
   "cell_type": "code",
   "execution_count": 5,
   "id": "e181066d",
   "metadata": {},
   "outputs": [
    {
     "data": {
      "image/png": "[encoded data removed]",
      "text/plain": [
       "<Figure size 360x360 with 2 Axes>"
      ]
     },
     "metadata": {
      "needs_background": "light"
     },
     "output_type": "display_data"
    }
   ],
   "source": [
    "corr = countries_df.corr()\n",
    "plt.figure(figsize=(5,5))\n",
    "sns.set(font_scale=0.8)\n",
    "sns.heatmap(corr, annot = True, xticklabels = corr.columns, yticklabels = corr.columns)\n",
    "plt.show()"
   ]
  },
  {
   "cell_type": "code",
   "execution_count": 6,
   "id": "1b3a12c1",
   "metadata": {},
   "outputs": [],
   "source": [
    "import pandas as pd\n",
    "import numpy as np\n",
    "from sklearn.preprocessing import MinMaxScaler\n",
    "import matplotlib.pyplot as plt\n",
    "from sklearn.preprocessing import StandardScaler\n",
    "from sklearn.model_selection import train_test_split, GridSearchCV\n",
    "from sklearn.svm import SVC"
   ]
  },
  {
   "cell_type": "code",
   "execution_count": 10,
   "id": "dbe73f41",
   "metadata": {},
   "outputs": [],
   "source": [
    "data = pd.read_csv('C:/Users/82103/Downloads/Countries.csv')\n",
    "\n",
    "X = data[['AQI Value', 'CO AQI Value', 'Ozone AQI Value', 'NO2 AQI Value', 'PM2.5 AQI Value']]\n",
    "y = data['AQI Value']\n",
    "\n",
    "X_train, X_test, y_train, y_test = train_test_split(X, y, random_state = 123)"
   ]
  },
  {
   "cell_type": "code",
   "execution_count": 11,
   "id": "7e1aa02c",
   "metadata": {},
   "outputs": [
    {
     "name": "stdout",
     "output_type": "stream",
     "text": [
      "SVC 학습 데이터 점수: 0.16923568405079467\n",
      "SVC 평가 데이터 점수: 0.1528509822712027\n",
      "Linear SVC 학습 데이터 점수: 1.0\n",
      "Linear SVC 평가 데이터 점수: 0.9841878294202204\n"
     ]
    }
   ],
   "source": [
    "model = SVC()\n",
    "model.fit(X_train, y_train)\n",
    "\n",
    "print(\"SVC 학습 데이터 점수: {}\".format(model.score(X_train, y_train)))\n",
    "print(\"SVC 평가 데이터 점수: {}\".format(model.score(X_test, y_test)))\n",
    "\n",
    "linear_svc = SVC(kernel='linear')\n",
    "linear_svc.fit(X_train, y_train)\n",
    "\n",
    "print(\"Linear SVC 학습 데이터 점수: {}\".format(linear_svc.score(X_train, y_train)))\n",
    "print(\"Linear SVC 평가 데이터 점수: {}\".format(linear_svc.score(X_test, y_test)))"
   ]
  },
  {
   "cell_type": "code",
   "execution_count": 12,
   "id": "e942382e",
   "metadata": {},
   "outputs": [],
   "source": [
    "scaler = StandardScaler()\n",
    "X_train = scaler.fit_transform(X_train)\n",
    "X_test = scaler.transform(X_test)"
   ]
  },
  {
   "cell_type": "code",
   "execution_count": 13,
   "id": "665f76ec",
   "metadata": {},
   "outputs": [
    {
     "name": "stdout",
     "output_type": "stream",
     "text": [
      "SVC 학습 데이터 점수: 0.1825732768948167\n",
      "SVC 평가 데이터 점수: 0.14973646382367034\n"
     ]
    }
   ],
   "source": [
    "model = SVC()\n",
    "model.fit(X_train, y_train)\n",
    "\n",
    "print(\"SVC 학습 데이터 점수: {}\".format(model.score(X_train, y_train)))\n",
    "print(\"SVC 평가 데이터 점수: {}\".format(model.score(X_test, y_test)))"
   ]
  },
  {
   "cell_type": "code",
   "execution_count": 14,
   "id": "cfdc5e69",
   "metadata": {},
   "outputs": [],
   "source": [
    "import pandas as pd\n",
    "import numpy as np\n",
    "from sklearn.preprocessing import MinMaxScaler\n",
    "import matplotlib.pyplot as plt\n",
    "from sklearn.preprocessing import StandardScaler\n",
    "from sklearn.model_selection import train_test_split, GridSearchCV\n",
    "from sklearn.svm import SVC\n",
    "from sklearn.metrics import accuracy_score"
   ]
  },
  {
   "cell_type": "code",
   "execution_count": 15,
   "id": "8b1dc5a9",
   "metadata": {},
   "outputs": [],
   "source": [
    "data = pd.read_csv('C:/Users/82103/Downloads/Countries.csv')\n",
    "\n",
    "X = data[['AQI Value', 'CO AQI Value', 'Ozone AQI Value', 'NO2 AQI Value', 'PM2.5 AQI Value']]\n",
    "y = data['AQI Value']\n",
    "\n",
    "X_train, X_test, y_train, y_test = train_test_split(X, y, random_state = 123)"
   ]
  },
  {
   "cell_type": "code",
   "execution_count": 16,
   "id": "7f264194",
   "metadata": {},
   "outputs": [
    {
     "name": "stdout",
     "output_type": "stream",
     "text": [
      "정확도: 0.1528509822712027\n"
     ]
    }
   ],
   "source": [
    "model = SVC()\n",
    "model.fit(X_train, y_train)\n",
    "\n",
    "y_pred = model.predict(X_test)\n",
    "\n",
    "accuracy = accuracy_score(y_test, y_pred)\n",
    "print(\"정확도:\", accuracy)"
   ]
  },
  {
   "cell_type": "code",
   "execution_count": null,
   "id": "56d76454",
   "metadata": {},
   "outputs": [],
   "source": []
  }
 ],
 "metadata": {
  "kernelspec": {
   "display_name": "Python 3",
   "language": "python",
   "name": "python3"
  },
  "language_info": {
   "codemirror_mode": {
    "name": "ipython",
    "version": 3
   },
   "file_extension": ".py",
   "mimetype": "text/x-python",
   "name": "python",
   "nbconvert_exporter": "python",
   "pygments_lexer": "ipython3",
   "version": "3.8.8"
  }
 },
 "nbformat": 4,
 "nbformat_minor": 5
}
